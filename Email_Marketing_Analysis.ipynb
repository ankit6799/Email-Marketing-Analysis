{
 "cells": [
  {
   "cell_type": "code",
   "execution_count": null,
   "id": "57649c9a-970b-44fd-bc87-c2f119e0fc41",
   "metadata": {},
   "outputs": [],
   "source": [
    "import pandas as pd\n",
    "import matplotlib.pyplot as plt"
   ]
  },
  {
   "cell_type": "code",
   "execution_count": null,
   "id": "7886d373-a666-4df7-ae7c-02b4c158cbea",
   "metadata": {},
   "outputs": [],
   "source": [
    "# Load the dataset\n",
    "df = pd.read_excel(\"Email Marketing Analysis.xlsx\")"
   ]
  },
  {
   "cell_type": "code",
   "execution_count": null,
   "id": "7c61d20c-2f09-404b-b96e-8f520e03b079",
   "metadata": {},
   "outputs": [],
   "source": [
    "# drop duplicates records\n",
    "df.drop_duplicates (inplace = True)"
   ]
  },
  {
   "cell_type": "code",
   "execution_count": null,
   "id": "f3c837f8-8fef-4b5e-a1f1-f540fe457216",
   "metadata": {},
   "outputs": [],
   "source": [
    "# Preprocessing\n",
    "df['BirthDate'] = pd.to_datetime(df['BirthDate'], errors='coerce')\n",
    "df['Enrolled on '] = pd.to_datetime(df['Enrolled on '], errors='coerce')\n",
    "df['Age'] = pd.Timestamp.now().year - df['BirthDate'].dt.year\n",
    "df = df.dropna(subset=['Age'])"
   ]
  },
  {
   "cell_type": "code",
   "execution_count": null,
   "id": "4c593028-877f-442e-a0f0-60e1a79b8442",
   "metadata": {},
   "outputs": [],
   "source": [
    "# Summary statistics\n",
    "print(df.describe(include='all'))"
   ]
  },
  {
   "cell_type": "markdown",
   "id": "41727517-d203-4e2d-89db-80d06cd37851",
   "metadata": {},
   "source": [
    "# **Observations**\n",
    "1. **Column1** has all unique values, looks like an ID field.\n",
    "2. **Type** mostly contains \"Individual\".\n",
    "3. **Status** is dominated by \"Active\".\n",
    "4. **City** has 388 unique values, most common is Hyderabad.\n",
    "5. **State** has 35 unique values, \"TELANGANA\" appears most.\n",
    "6. **PostalCode** is numeric.\n",
    "7. **GenderCode** has 4 values, \"MALE\" is the majority.\n",
    "8. **BirthDate** ranges from 1900 to 2018.\n",
    "9. **MaritalStatus** has 2 categories, mostly \"M\".\n",
    "10. **Enrolled on** dates range from 2017 to 2020.\n",
    "11. **Living status** has 3 categories, most common is \"couple with children\".\n",
    "12. **Age** average around 43 and there are some unusual outliers around 125 years."
   ]
  },
  {
   "cell_type": "code",
   "execution_count": null,
   "id": "da74b457-7392-4ae1-bfc6-bf450239234e",
   "metadata": {},
   "outputs": [],
   "source": [
    "# Treatment of outliers\n",
    "df = df[(df['Age'] >= 18) & (df['Age'] <= 90)]"
   ]
  },
  {
   "cell_type": "code",
   "execution_count": null,
   "id": "b517d8c1-6f4c-4c47-bb6f-7ef3a2af92ad",
   "metadata": {},
   "outputs": [],
   "source": [
    "# Gender distribution\n",
    "gender_counts = df['GenderCode'].value_counts()\n",
    "gender_counts.plot.pie(autopct='%1.1f%%', figsize=(6, 6), title='Gender Distribution')\n",
    "plt.ylabel('')\n",
    "plt.show()"
   ]
  },
  {
   "cell_type": "markdown",
   "id": "e1cda7ef-37d9-4957-8b84-084145925534",
   "metadata": {},
   "source": [
    "**observation :- From the above pie chart, males have the maximum share at 69.9%, while females account for 29.9%.**"
   ]
  },
  {
   "cell_type": "code",
   "execution_count": null,
   "id": "4fde9e29-93f3-4f2f-9274-38524e0af7cd",
   "metadata": {},
   "outputs": [],
   "source": [
    "# Age distribution\n",
    "df['Age'].plot.hist(bins=30, title='Age Distribution')\n",
    "plt.xlabel('Age')\n",
    "plt.show()"
   ]
  },
  {
   "cell_type": "markdown",
   "id": "7c224773-e8e4-440f-8427-73bad6c68dcc",
   "metadata": {},
   "source": [
    "**Observation** \n",
    "- **Most people in the dataset are between 30 and 45 years old, with the highest concentration around 38 years, and very few are above 70 years.**"
   ]
  },
  {
   "cell_type": "code",
   "execution_count": null,
   "id": "2218732d-9196-494e-a299-af0ac8109b01",
   "metadata": {},
   "outputs": [],
   "source": [
    "# Enrollment trend\n",
    "df['EnrollYear'] = df['Enrolled on '].dt.year\n",
    "enroll_trend = df['EnrollYear'].value_counts().sort_index()\n",
    "enroll_trend.plot.line(title='Customer Enrollment Trend Over Time')\n",
    "plt.xlabel('Year')\n",
    "plt.ylabel('Enrollments')\n",
    "plt.show()"
   ]
  },
  {
   "cell_type": "markdown",
   "id": "cb19c11f-8d30-4979-b05e-d245c61c0b8d",
   "metadata": {},
   "source": [
    "**Observation**\n",
    "- **The graph shows that customer enrollments increased sharply from 2017 to 2018, then declined steadily from 2018 to 2020.**"
   ]
  },
  {
   "cell_type": "code",
   "execution_count": null,
   "id": "7a7050f8-2030-473b-9a8f-beb8a02184da",
   "metadata": {},
   "outputs": [],
   "source": [
    "# Living status distribution\n",
    "living_status_counts = df['Living status'].value_counts()\n",
    "living_status_counts.plot.bar(title='Living Status Distribution')\n",
    "plt.xlabel('Living Status')\n",
    "plt.ylabel('Count')\n",
    "plt.xticks(rotation=45)\n",
    "plt.show()"
   ]
  },
  {
   "cell_type": "code",
   "execution_count": null,
   "id": "0a9f57d4-cdde-42e1-94bb-884fc071b732",
   "metadata": {},
   "outputs": [],
   "source": [
    "**Observation**\n",
    "- The bar chart shows that most people live with children, followed by those living without children, while the fewest people live alone.**"
   ]
  }
 ],
 "metadata": {
  "kernelspec": {
   "display_name": "Python 3 (ipykernel)",
   "language": "python",
   "name": "python3"
  },
  "language_info": {
   "codemirror_mode": {
    "name": "ipython",
    "version": 3
   },
   "file_extension": ".py",
   "mimetype": "text/x-python",
   "name": "python",
   "nbconvert_exporter": "python",
   "pygments_lexer": "ipython3",
   "version": "3.12.7"
  }
 },
 "nbformat": 4,
 "nbformat_minor": 5
}
